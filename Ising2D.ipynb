{
 "cells": [
  {
   "cell_type": "code",
   "execution_count": 3,
   "metadata": {},
   "outputs": [],
   "source": [
    "import numpy as np\n",
    "import matplotlib.pyplot as plt\n",
    "import random\n",
    "import queue\n",
    "%matplotlib inline"
   ]
  },
  {
   "cell_type": "code",
   "execution_count": 14,
   "metadata": {},
   "outputs": [],
   "source": [
    "import numpy as np\n",
    "import matplotlib.pyplot as plt\n",
    "import random\n",
    "import queue\n",
    "\n",
    "class Lattice:\n",
    "\n",
    "    def __init__(self, lsize, K=1.0):\n",
    "\n",
    "        self.lattice = np.random.rand(lsize, lsize)\n",
    "        self.lattice = np.round(self.lattice)\n",
    "        self.lattice[self.lattice == 0] = 1\n",
    "        self.idx = 1\n",
    "        self.idy = 1\n",
    "        self.K = K # Dimensionless Temperature\n",
    "        self.lsize = lsize # Lattice Size\n",
    "        self.prob = 1 - np.exp(-1 * self.K) # Acceptance probability for Wolff\n",
    "        self.w = {key:np.exp(0) for key in [-8, -4, 0, 4, 8]}\n",
    "        # This ensures that all flips towards negative\n",
    "        # energy configuration have flip probability = 1.\n",
    "        self.w[-8] = np.exp(-K * 8.0) # Adjust \n",
    "        self.w[-4] = np.exp(-K*4.0)\n",
    "        \n",
    "    def get_index(self, idx, idy):\n",
    "        idx = (idx + self.lsize) % self.lsize  \n",
    "        idy = (idy + self.lsize) % self.lsize\n",
    "        return idx, idy\n",
    "\n",
    "    def at(self, idx, idy):\n",
    "        return self.lattice[self.get_index(idx, idy)]\n",
    "    \n",
    "    def get_neighbor_indices(self, site):\n",
    "        return [self.get_index(site[0], site[1]+1), self.get_index(site[0], site[1]-1),\n",
    "           self.get_index(site[0]+1, site[1]), self.get_index(site[0]-1, site[1])]\n",
    "\n",
    "    def find_clusters(self):\n",
    "        cluster = set([])\n",
    "        unprocessed_sites = queue.Queue()\n",
    "        site_id = np.random.randint(0, self.lsize), np.random.randint(0, self.lsize)\n",
    "        unprocessed_sites.put(site_id)\n",
    "        cluster.add(site_id)\n",
    "        while not unprocessed_sites.empty():\n",
    "            site_id = unprocessed_sites.get()\n",
    "            neighbors = self.get_neighbor_indices(site_id)\n",
    "            for n in neighbors:\n",
    "                site_n = self.at(n[0], n[1])\n",
    "                site_center = self.at(site_id[0], site_id[1])\n",
    "                prob = 1 - np.exp(-2 * self.K * site_n * site_center)\n",
    "                if random.random() < prob:\n",
    "                    if not n in cluster:\n",
    "                        unprocessed_sites.put(n)\n",
    "                    cluster.add(n)\n",
    "        return cluster\n",
    "\n",
    "    def metropolis(self):\n",
    "        '''\n",
    "        Implements single metropolis pass.\n",
    "        '''\n",
    "        site_id = np.random.randint(0, self.lsize), np.random.randint(0, self.lsize)\n",
    "        deltaE = 0\n",
    "        for n in self.get_neighbor_indices(site_id):\n",
    "            deltaE += self.at(site_id[0], site_id[1]) * self.at(n[0], n[1])\n",
    "        deltaE = int(-2 * deltaE)\n",
    "        if random.random() < self.w[deltaE]:\n",
    "            self.lattice[site_id[0], site_id[1]] *= -1\n",
    "    \n",
    "    def metropolis_pass(self):\n",
    "        '''\n",
    "        Implements metropolis pass.\n",
    "        '''\n",
    "        mcs = self.lsize ** 2 * 100\n",
    "        avg_M = []\n",
    "        avg_M2 = []\n",
    "        m = 0\n",
    "        m2 = 0\n",
    "        for i in range(mcs):\n",
    "            self.metropolis()\n",
    "            avg_M.append(self.M)\n",
    "            avg_M2.append(self.M2)\n",
    "        m = np.mean(avg_M)\n",
    "        m2 = np.mean(avg_M2) - (np.mean(avg_M))**2.0\n",
    "        print(\"M = {0}\".format(m))\n",
    "        print(\"Sigma(M) = {0}\".format(m2))\n",
    "        return m, m2\n",
    "    \n",
    "    def wolff_pass(self):\n",
    "        \n",
    "        mcs = 100\n",
    "        average_cluster_sizes = []\n",
    "        l = 0\n",
    "        data = {'M' : [], 'M2' : [], 'E': [], 'E2' : []}\n",
    "\n",
    "        for i in range(mcs):\n",
    "            clusters = self.find_clusters()\n",
    "            average_cluster_sizes.append(len(clusters))\n",
    "            for c in clusters:\n",
    "                self.lattice[c[0], c[1]] *= -1\n",
    "            data['M'].append(np.abs(self.M))\n",
    "            data['M2'].append((self.M) ** 2)\n",
    "            data['E'].append(self.E)\n",
    "            data['E2'].append(self.E ** 2)\n",
    "        l = np.mean(np.asarray(average_cluster_sizes))\n",
    "        print(\"M = {0}\".format(np.mean(data['M'])))\n",
    "        print(\"M2 = {0}\".format(np.mean(data['M2'])))\n",
    "        print(\"E = {0}\".format(np.mean(data['E'])))\n",
    "        print(\"E2 = {0}\".format(np.mean(data['E2'])))\n",
    "        print(\"M2 = {0}\".format(np.mean(data['M2'])))\n",
    "    \n",
    "    @property\n",
    "    def M(self):\n",
    "        return np.sum(self.lattice) / (self.lsize * self.lsize)\n",
    "    \n",
    "    @property\n",
    "    def E(self):\n",
    "        energy = 0\n",
    "        for i in range(self.lsize):\n",
    "            for j in range(self.lsize):\n",
    "                idx, idy = self.get_index(i,j)\n",
    "                energy += self.at(idx, idy) * (self.at(idx + 1, idy) + self.at(idx, idy + 1))\n",
    "        return energy / float(self.lsize ** 2)\n"
   ]
  },
  {
   "cell_type": "code",
   "execution_count": null,
   "metadata": {},
   "outputs": [],
   "source": [
    "x = np.linspace(1/4, 1, 20)\n",
    "l = []\n",
    "for k in x:\n",
    "    lattice = Lattice(32, K=k)\n",
    "    m, m2 = lattice.metropolis_pass()\n",
    "    l.append(m)\n",
    "    plt.imshow(lattice.lattice)\n",
    "    plt.show()"
   ]
  },
  {
   "cell_type": "code",
   "execution_count": null,
   "metadata": {},
   "outputs": [],
   "source": [
    "fig, ax = plt.subplots()\n",
    "ax.errorbar(np.linspace(1/4, 1, 20), l, fmt='s')"
   ]
  },
  {
   "cell_type": "code",
   "execution_count": null,
   "metadata": {},
   "outputs": [],
   "source": [
    "np.log(1 + np.sqrt(2))/2"
   ]
  },
  {
   "cell_type": "code",
   "execution_count": null,
   "metadata": {},
   "outputs": [],
   "source": [
    "lattice = Lattice(64, K=0.42)\n",
    "lattice.metropolis_pass()\n",
    "plt.imshow(lattice.lattice)"
   ]
  },
  {
   "cell_type": "code",
   "execution_count": 15,
   "metadata": {},
   "outputs": [
    {
     "name": "stdout",
     "output_type": "stream",
     "text": [
      "M = 0.190145679012\n",
      "M2 = 0.0683305148605\n",
      "E = 1.24481975309\n",
      "E2 = 1.56299318275\n",
      "M2 = 0.0683305148605\n",
      "M = 0.0903481481481\n",
      "M2 = 0.0104617826551\n",
      "E = 1.13462222222\n",
      "E2 = 1.28772434202\n",
      "M2 = 0.0104617826551\n"
     ]
    },
    {
     "data": {
      "image/png": "[encoded data removed]",
      "text/plain": [
       "<Figure size 432x288 with 1 Axes>"
      ]
     },
     "metadata": {
      "needs_background": "light"
     },
     "output_type": "display_data"
    },
    {
     "name": "stdout",
     "output_type": "stream",
     "text": [
      "M = 0.149575308642\n",
      "M2 = 0.0470403048316\n",
      "E = 1.26138765432\n",
      "E2 = 1.59936775248\n",
      "M2 = 0.0470403048316\n",
      "M = 0.10469382716\n",
      "M2 = 0.0143024557232\n",
      "E = 1.19575802469\n",
      "E2 = 1.42991755403\n",
      "M2 = 0.0143024557232\n"
     ]
    },
    {
     "data": {
      "image/png": "[encoded data removed]",
      "text/plain": [
       "<Figure size 432x288 with 1 Axes>"
      ]
     },
     "metadata": {
      "needs_background": "light"
     },
     "output_type": "display_data"
    },
    {
     "name": "stdout",
     "output_type": "stream",
     "text": [
      "M = 0.220044444444\n",
      "M2 = 0.0711663526901\n",
      "E = 1.25524938272\n",
      "E2 = 1.57869559396\n",
      "M2 = 0.0711663526901\n",
      "M = 0.117404938272\n",
      "M2 = 0.0209545160799\n",
      "E = 1.22755555556\n",
      "E2 = 1.50707276574\n",
      "M2 = 0.0209545160799\n"
     ]
    },
    {
     "data": {
      "image/png": "[encoded data removed]",
      "text/plain": [
       "<Figure size 432x288 with 1 Axes>"
      ]
     },
     "metadata": {
      "needs_background": "light"
     },
     "output_type": "display_data"
    },
    {
     "name": "stdout",
     "output_type": "stream",
     "text": [
      "M = 0.26130617284\n",
      "M2 = 0.107848067673\n",
      "E = 1.32114567901\n",
      "E2 = 1.74798352934\n",
      "M2 = 0.107848067673\n",
      "M = 0.22144691358\n",
      "M2 = 0.0590889803384\n",
      "E = 1.29115555556\n",
      "E2 = 1.66727390825\n",
      "M2 = 0.0590889803384\n"
     ]
    },
    {
     "data": {
      "image/png": "[encoded data removed]",
      "text/plain": [
       "<Figure size 432x288 with 1 Axes>"
      ]
     },
     "metadata": {
      "needs_background": "light"
     },
     "output_type": "display_data"
    },
    {
     "name": "stdout",
     "output_type": "stream",
     "text": [
      "M = 0.601639506173\n",
      "M2 = 0.37874318549\n",
      "E = 1.43211851852\n",
      "E2 = 2.05287212559\n",
      "M2 = 0.37874318549\n",
      "M = 0.574032098765\n",
      "M2 = 0.352172799878\n",
      "E = 1.42434567901\n",
      "E2 = 2.02974128578\n",
      "M2 = 0.352172799878\n"
     ]
    },
    {
     "data": {
      "image/png": "[encoded data removed]",
      "text/plain": [
       "<Figure size 432x288 with 1 Axes>"
      ]
     },
     "metadata": {
      "needs_background": "light"
     },
     "output_type": "display_data"
    },
    {
     "name": "stdout",
     "output_type": "stream",
     "text": [
      "M = 0.754059259259\n",
      "M2 = 0.571573873495\n",
      "E = 1.51747654321\n",
      "E2 = 2.30406673861\n",
      "M2 = 0.571573873495\n",
      "M = 0.751350617284\n",
      "M2 = 0.565682500229\n",
      "E = 1.51299753086\n",
      "E2 = 2.28999042341\n",
      "M2 = 0.565682500229\n"
     ]
    },
    {
     "data": {
      "image/png": "[encoded data removed]",
      "text/plain": [
       "<Figure size 432x288 with 1 Axes>"
      ]
     },
     "metadata": {
      "needs_background": "light"
     },
     "output_type": "display_data"
    },
    {
     "name": "stdout",
     "output_type": "stream",
     "text": [
      "M = 0.823079012346\n",
      "M2 = 0.678210753848\n",
      "E = 1.58937777778\n",
      "E2 = 2.52693515501\n",
      "M2 = 0.678210753848\n",
      "M = 0.816417283951\n",
      "M2 = 0.66695017162\n",
      "E = 1.57990617284\n",
      "E2 = 2.49663313519\n",
      "M2 = 0.66695017162\n"
     ]
    },
    {
     "data": {
      "image/png": "[encoded data removed]",
      "text/plain": [
       "<Figure size 432x288 with 1 Axes>"
      ]
     },
     "metadata": {
      "needs_background": "light"
     },
     "output_type": "display_data"
    },
    {
     "name": "stdout",
     "output_type": "stream",
     "text": [
      "M = 0.851301234568\n",
      "M2 = 0.725049155312\n",
      "E = 1.63524444444\n",
      "E2 = 2.67460756592\n",
      "M2 = 0.725049155312\n",
      "M = 0.848518518519\n",
      "M2 = 0.720305613169\n",
      "E = 1.63236049383\n",
      "E2 = 2.66494950648\n",
      "M2 = 0.720305613169\n"
     ]
    },
    {
     "data": {
      "image/png": "[encoded data removed]",
      "text/plain": [
       "<Figure size 432x288 with 1 Axes>"
      ]
     },
     "metadata": {
      "needs_background": "light"
     },
     "output_type": "display_data"
    },
    {
     "name": "stdout",
     "output_type": "stream",
     "text": [
      "M = 0.876955555556\n",
      "M2 = 0.769324758421\n",
      "E = 1.67645432099\n",
      "E2 = 2.81112154367\n",
      "M2 = 0.769324758421\n",
      "M = 0.878387654321\n",
      "M2 = 0.771777424783\n",
      "E = 1.67805432099\n",
      "E2 = 2.81635216095\n",
      "M2 = 0.771777424783\n"
     ]
    },
    {
     "data": {
      "image/png": "[encoded data removed]",
      "text/plain": [
       "<Figure size 432x288 with 1 Axes>"
      ]
     },
     "metadata": {
      "needs_background": "light"
     },
     "output_type": "display_data"
    },
    {
     "name": "stdout",
     "output_type": "stream",
     "text": [
      "M = 0.897444444444\n",
      "M2 = 0.805557087639\n",
      "E = 1.71673580247\n",
      "E2 = 2.94766274166\n",
      "M2 = 0.805557087639\n",
      "M = 0.892856790123\n",
      "M2 = 0.797309591221\n",
      "E = 1.70714567901\n",
      "E2 = 2.91467711629\n",
      "M2 = 0.797309591221\n"
     ]
    },
    {
     "data": {
      "image/png": "[encoded data removed]",
      "text/plain": [
       "<Figure size 432x288 with 1 Axes>"
      ]
     },
     "metadata": {
      "needs_background": "light"
     },
     "output_type": "display_data"
    }
   ],
   "source": [
    "for k in range(10):\n",
    "    x = 0.4 + 0.01 * k\n",
    "    lattice = Lattice(90, K=x)\n",
    "    lattice.wolff_pass()\n",
    "    lattice.wolff_pass()\n",
    "    plt.imshow(lattice.lattice)\n",
    "    plt.show()"
   ]
  },
  {
   "cell_type": "code",
   "execution_count": null,
   "metadata": {},
   "outputs": [],
   "source": []
  }
 ],
 "metadata": {
  "kernelspec": {
   "display_name": "Python 3",
   "language": "python",
   "name": "python3"
  },
  "language_info": {
   "codemirror_mode": {
    "name": "ipython",
    "version": 2
   },
   "file_extension": ".py",
   "mimetype": "text/x-python",
   "name": "python",
   "nbconvert_exporter": "python",
   "pygments_lexer": "ipython2",
   "version": "2.7.15"
  }
 },
 "nbformat": 4,
 "nbformat_minor": 2
}
